{
 "cells": [
  {
   "cell_type": "code",
   "execution_count": 2,
   "metadata": {
    "collapsed": false,
    "scrolled": true
   },
   "outputs": [
    {
     "data": {
      "text/html": [
       "<div>\n",
       "<table border=\"1\" class=\"dataframe\">\n",
       "  <thead>\n",
       "    <tr style=\"text-align: right;\">\n",
       "      <th></th>\n",
       "      <th>Age</th>\n",
       "      <th>Gender</th>\n",
       "      <th>AppointmentRegistration</th>\n",
       "      <th>ApointmentData</th>\n",
       "      <th>DayOfTheWeek</th>\n",
       "      <th>Status</th>\n",
       "      <th>Diabetes</th>\n",
       "      <th>Alcoolism</th>\n",
       "      <th>HiperTension</th>\n",
       "      <th>Handcap</th>\n",
       "      <th>Smokes</th>\n",
       "      <th>Scholarship</th>\n",
       "      <th>Tuberculosis</th>\n",
       "      <th>Sms_Reminder</th>\n",
       "      <th>AwaitingTime</th>\n",
       "    </tr>\n",
       "  </thead>\n",
       "  <tbody>\n",
       "    <tr>\n",
       "      <th>0</th>\n",
       "      <td>19</td>\n",
       "      <td>M</td>\n",
       "      <td>2014-12-16T14:46:25Z</td>\n",
       "      <td>2015-01-14T00:00:00Z</td>\n",
       "      <td>Wednesday</td>\n",
       "      <td>Show-Up</td>\n",
       "      <td>0</td>\n",
       "      <td>0</td>\n",
       "      <td>0</td>\n",
       "      <td>0</td>\n",
       "      <td>0</td>\n",
       "      <td>0</td>\n",
       "      <td>0</td>\n",
       "      <td>0</td>\n",
       "      <td>-29</td>\n",
       "    </tr>\n",
       "    <tr>\n",
       "      <th>1</th>\n",
       "      <td>24</td>\n",
       "      <td>F</td>\n",
       "      <td>2015-08-18T07:01:26Z</td>\n",
       "      <td>2015-08-19T00:00:00Z</td>\n",
       "      <td>Wednesday</td>\n",
       "      <td>Show-Up</td>\n",
       "      <td>0</td>\n",
       "      <td>0</td>\n",
       "      <td>0</td>\n",
       "      <td>0</td>\n",
       "      <td>0</td>\n",
       "      <td>0</td>\n",
       "      <td>0</td>\n",
       "      <td>0</td>\n",
       "      <td>-1</td>\n",
       "    </tr>\n",
       "    <tr>\n",
       "      <th>2</th>\n",
       "      <td>4</td>\n",
       "      <td>F</td>\n",
       "      <td>2014-02-17T12:53:46Z</td>\n",
       "      <td>2014-02-18T00:00:00Z</td>\n",
       "      <td>Tuesday</td>\n",
       "      <td>Show-Up</td>\n",
       "      <td>0</td>\n",
       "      <td>0</td>\n",
       "      <td>0</td>\n",
       "      <td>0</td>\n",
       "      <td>0</td>\n",
       "      <td>0</td>\n",
       "      <td>0</td>\n",
       "      <td>0</td>\n",
       "      <td>-1</td>\n",
       "    </tr>\n",
       "    <tr>\n",
       "      <th>3</th>\n",
       "      <td>5</td>\n",
       "      <td>M</td>\n",
       "      <td>2014-07-23T17:02:11Z</td>\n",
       "      <td>2014-08-07T00:00:00Z</td>\n",
       "      <td>Thursday</td>\n",
       "      <td>Show-Up</td>\n",
       "      <td>0</td>\n",
       "      <td>0</td>\n",
       "      <td>0</td>\n",
       "      <td>0</td>\n",
       "      <td>0</td>\n",
       "      <td>0</td>\n",
       "      <td>0</td>\n",
       "      <td>1</td>\n",
       "      <td>-15</td>\n",
       "    </tr>\n",
       "    <tr>\n",
       "      <th>4</th>\n",
       "      <td>38</td>\n",
       "      <td>M</td>\n",
       "      <td>2015-10-21T15:20:09Z</td>\n",
       "      <td>2015-10-27T00:00:00Z</td>\n",
       "      <td>Tuesday</td>\n",
       "      <td>Show-Up</td>\n",
       "      <td>0</td>\n",
       "      <td>0</td>\n",
       "      <td>0</td>\n",
       "      <td>0</td>\n",
       "      <td>0</td>\n",
       "      <td>0</td>\n",
       "      <td>0</td>\n",
       "      <td>1</td>\n",
       "      <td>-6</td>\n",
       "    </tr>\n",
       "  </tbody>\n",
       "</table>\n",
       "</div>"
      ],
      "text/plain": [
       "   Age Gender AppointmentRegistration        ApointmentData DayOfTheWeek  \\\n",
       "0   19      M    2014-12-16T14:46:25Z  2015-01-14T00:00:00Z    Wednesday   \n",
       "1   24      F    2015-08-18T07:01:26Z  2015-08-19T00:00:00Z    Wednesday   \n",
       "2    4      F    2014-02-17T12:53:46Z  2014-02-18T00:00:00Z      Tuesday   \n",
       "3    5      M    2014-07-23T17:02:11Z  2014-08-07T00:00:00Z     Thursday   \n",
       "4   38      M    2015-10-21T15:20:09Z  2015-10-27T00:00:00Z      Tuesday   \n",
       "\n",
       "    Status  Diabetes  Alcoolism  HiperTension  Handcap  Smokes  Scholarship  \\\n",
       "0  Show-Up         0          0             0        0       0            0   \n",
       "1  Show-Up         0          0             0        0       0            0   \n",
       "2  Show-Up         0          0             0        0       0            0   \n",
       "3  Show-Up         0          0             0        0       0            0   \n",
       "4  Show-Up         0          0             0        0       0            0   \n",
       "\n",
       "   Tuberculosis  Sms_Reminder  AwaitingTime  \n",
       "0             0             0           -29  \n",
       "1             0             0            -1  \n",
       "2             0             0            -1  \n",
       "3             0             1           -15  \n",
       "4             0             1            -6  "
      ]
     },
     "execution_count": 2,
     "metadata": {},
     "output_type": "execute_result"
    }
   ],
   "source": [
    "import pandas as pd\n",
    "import numpy as np\n",
    "import matplotlib.pyplot as plt\n",
    "%matplotlib inline\n",
    "\n",
    "patient_data = pd.DataFrame()\n",
    "patient_data = pd.read_csv('./No-show-Issue-Comma-300k 2.csv')\n",
    "\n",
    "patient_data.head()"
   ]
  },
  {
   "cell_type": "markdown",
   "metadata": {},
   "source": [
    "While on [Kaggle](https://www.kaggle.com), I came across a patient appointment data set ([here]( (https://www.kaggle.com/joniarroba/noshowappointments)). It has over 300,000 patients as well as information about the appointment date and several binary health indicators about each patient. It posed a question, \"Why do 30% of patients miss their appointments?\"\n",
    "\n",
    "\n",
    "And that was it. There was no additional context about where this data came from or if the health indicators were from the doctor's records or self reported. There was no description about even what country this data was from. Furthermore, there were clear typos in the column headings such as \"Alcoolism\" and \"HiperTension\" but nonetheless,I got curious about this dataset of over 300,000 people - why do **30%** of patients **miss** their appointments? \n",
    "\n",
    "I intended to find out. \n",
    "\n",
    "After all, missed doctor appointments are a huge deal in the US. It is estimated by Healthcare industry professionals that missed appointments cost the US over \\$150 billion  per year or between \\$100 and \\$1000 per patient depending on location and specialty of the practice ([source 1](http://www.healthcarefinancenews.com/blog/insight-tackling-healthcares-costly-problem-missed-appointments), [source 2](https://www.everseat.com/blog/missed-appointments-affect-more-than-just-revenue/)). These estimates are in revenue and are not including the extra cost of staff trying to track down these patients for future appointments. \n",
    "\n",
    "Hospital systems recognize this huge attrition problem and are trying to get to the bottom of why patients are missing appointments. When asked, patients say that they simply forget that they had an appointment ([source 3](http://bmcfampract.biomedcentral.com/articles/10.1186/1471-2296-6-47)). Therefore, hospital systems are trying to address this forgetfulness problem using various automated reminder systems, including text message reminders, similar to the SMS reminders in our dataset. But do these reminders have an impact? \n",
    "\n",
    "I first wanted to know more about the dataset - Who are these patients? What are their median ages? Is their overall health representative of the United States or perhaps of a different country all together?\n",
    "\n",
    "Secondly, I wanted to know more about these missed appointments - was there a certain day that had more missed appointments? Did age matter? What, if any, trends could I find relating to these missed appointments. \n",
    "\n",
    "Thirdly, what was the impact of these text message reminders? Unfortunately, we do not have any context regarding these text messages, such as what the text messages said or when they were sent in relation to a patient's appointment date. That being said, did simply receiving a text message affect the rate of showing up to an appointment?\n",
    "\n",
    "So to summarize:\n",
    "\n",
    "1. Who are the patients in this data set?\n",
    "2. What factors contributed to missing an appointment? (fix questions to make more specific and focus on the characteristics that we do have)\n",
    "3. Did receiving a text message affect a patient's ability to show up?\n"
   ]
  },
  {
   "cell_type": "markdown",
   "metadata": {},
   "source": [
    "# Who Are the Patients?"
   ]
  },
  {
   "cell_type": "code",
   "execution_count": null,
   "metadata": {
    "collapsed": true
   },
   "outputs": [],
   "source": []
  },
  {
   "cell_type": "code",
   "execution_count": 20,
   "metadata": {
    "collapsed": false
   },
   "outputs": [
    {
     "name": "stdout",
     "output_type": "stream",
     "text": [
      "the average age is 37.80801666666667 years\n",
      "the standard deviation is 22.809014151649986 years\n"
     ]
    },
    {
     "data": {
      "image/png": "[encoded data removed]",
      "text/plain": [
       "<matplotlib.figure.Figure at 0x1155369e8>"
      ]
     },
     "metadata": {},
     "output_type": "display_data"
    },
    {
     "data": {
      "image/png": "[encoded data removed]",
      "text/plain": [
       "<matplotlib.figure.Figure at 0x116dabcc0>"
      ]
     },
     "metadata": {},
     "output_type": "display_data"
    },
    {
     "name": "stdout",
     "output_type": "stream",
     "text": [
      "The dataset has rate of\n"
     ]
    },
    {
     "name": "stderr",
     "output_type": "stream",
     "text": [
      "//anaconda/lib/python3.6/site-packages/pandas/core/ops.py:792: FutureWarning: elementwise comparison failed; returning scalar instead, but in the future will perform elementwise comparison\n",
      "  result = getattr(x, name)(y)\n"
     ]
    },
    {
     "ename": "TypeError",
     "evalue": "invalid type comparison",
     "output_type": "error",
     "traceback": [
      "\u001b[0;31m---------------------------------------------------------------------------\u001b[0m",
      "\u001b[0;31mTypeError\u001b[0m                                 Traceback (most recent call last)",
      "\u001b[0;32m<ipython-input-20-6667ec3eac3e>\u001b[0m in \u001b[0;36m<module>\u001b[0;34m()\u001b[0m\n\u001b[1;32m     18\u001b[0m \u001b[0mprint\u001b[0m\u001b[0;34m(\u001b[0m\u001b[0;34m\"The dataset has rate of\"\u001b[0m\u001b[0;34m)\u001b[0m\u001b[0;34m\u001b[0m\u001b[0m\n\u001b[1;32m     19\u001b[0m \u001b[0;34m\u001b[0m\u001b[0m\n\u001b[0;32m---> 20\u001b[0;31m \u001b[0mdiabetes_rate\u001b[0m \u001b[0;34m=\u001b[0m \u001b[0mpatient_data\u001b[0m\u001b[0;34m[\u001b[0m\u001b[0mpatient_data\u001b[0m\u001b[0;34m[\u001b[0m\u001b[0;34m'Diabetes'\u001b[0m\u001b[0;34m]\u001b[0m\u001b[0;34m==\u001b[0m\u001b[0;34m\"1\"\u001b[0m\u001b[0;34m]\u001b[0m\u001b[0;34m/\u001b[0m \u001b[0mpatient_data\u001b[0m\u001b[0;34m(\u001b[0m\u001b[0mpatient_data\u001b[0m\u001b[0;34m[\u001b[0m\u001b[0;34m'Diabetes'\u001b[0m\u001b[0;34m]\u001b[0m\u001b[0;34m)\u001b[0m\u001b[0;34m\u001b[0m\u001b[0m\n\u001b[0m\u001b[1;32m     21\u001b[0m \u001b[0;34m\u001b[0m\u001b[0m\n\u001b[1;32m     22\u001b[0m \u001b[0;31m## trying to show all the different rates of the different characteristics in the data set....cannot use len\u001b[0m\u001b[0;34m\u001b[0m\u001b[0;34m\u001b[0m\u001b[0m\n",
      "\u001b[0;32m//anaconda/lib/python3.6/site-packages/pandas/core/ops.py\u001b[0m in \u001b[0;36mwrapper\u001b[0;34m(self, other, axis)\u001b[0m\n\u001b[1;32m    853\u001b[0m \u001b[0;34m\u001b[0m\u001b[0m\n\u001b[1;32m    854\u001b[0m             \u001b[0;32mwith\u001b[0m \u001b[0mnp\u001b[0m\u001b[0;34m.\u001b[0m\u001b[0merrstate\u001b[0m\u001b[0;34m(\u001b[0m\u001b[0mall\u001b[0m\u001b[0;34m=\u001b[0m\u001b[0;34m'ignore'\u001b[0m\u001b[0;34m)\u001b[0m\u001b[0;34m:\u001b[0m\u001b[0;34m\u001b[0m\u001b[0m\n\u001b[0;32m--> 855\u001b[0;31m                 \u001b[0mres\u001b[0m \u001b[0;34m=\u001b[0m \u001b[0mna_op\u001b[0m\u001b[0;34m(\u001b[0m\u001b[0mvalues\u001b[0m\u001b[0;34m,\u001b[0m \u001b[0mother\u001b[0m\u001b[0;34m)\u001b[0m\u001b[0;34m\u001b[0m\u001b[0m\n\u001b[0m\u001b[1;32m    856\u001b[0m             \u001b[0;32mif\u001b[0m \u001b[0misscalar\u001b[0m\u001b[0;34m(\u001b[0m\u001b[0mres\u001b[0m\u001b[0;34m)\u001b[0m\u001b[0;34m:\u001b[0m\u001b[0;34m\u001b[0m\u001b[0m\n\u001b[1;32m    857\u001b[0m                 raise TypeError('Could not compare %s type with Series' %\n",
      "\u001b[0;32m//anaconda/lib/python3.6/site-packages/pandas/core/ops.py\u001b[0m in \u001b[0;36mna_op\u001b[0;34m(x, y)\u001b[0m\n\u001b[1;32m    792\u001b[0m                     \u001b[0mresult\u001b[0m \u001b[0;34m=\u001b[0m \u001b[0mgetattr\u001b[0m\u001b[0;34m(\u001b[0m\u001b[0mx\u001b[0m\u001b[0;34m,\u001b[0m \u001b[0mname\u001b[0m\u001b[0;34m)\u001b[0m\u001b[0;34m(\u001b[0m\u001b[0my\u001b[0m\u001b[0;34m)\u001b[0m\u001b[0;34m\u001b[0m\u001b[0m\n\u001b[1;32m    793\u001b[0m                 \u001b[0;32mif\u001b[0m \u001b[0mresult\u001b[0m \u001b[0;32mis\u001b[0m \u001b[0mNotImplemented\u001b[0m\u001b[0;34m:\u001b[0m\u001b[0;34m\u001b[0m\u001b[0m\n\u001b[0;32m--> 794\u001b[0;31m                     \u001b[0;32mraise\u001b[0m \u001b[0mTypeError\u001b[0m\u001b[0;34m(\u001b[0m\u001b[0;34m\"invalid type comparison\"\u001b[0m\u001b[0;34m)\u001b[0m\u001b[0;34m\u001b[0m\u001b[0m\n\u001b[0m\u001b[1;32m    795\u001b[0m             \u001b[0;32mexcept\u001b[0m \u001b[0mAttributeError\u001b[0m\u001b[0;34m:\u001b[0m\u001b[0;34m\u001b[0m\u001b[0m\n\u001b[1;32m    796\u001b[0m                 \u001b[0mresult\u001b[0m \u001b[0;34m=\u001b[0m \u001b[0mop\u001b[0m\u001b[0;34m(\u001b[0m\u001b[0mx\u001b[0m\u001b[0;34m,\u001b[0m \u001b[0my\u001b[0m\u001b[0;34m)\u001b[0m\u001b[0;34m\u001b[0m\u001b[0m\n",
      "\u001b[0;31mTypeError\u001b[0m: invalid type comparison"
     ]
    }
   ],
   "source": [
    "patient_age = patient_data['Age']\n",
    "print(\"the average age is \" + str(patient_age.mean())+\" years\")\n",
    "print(\"the standard deviation is \"+ str(patient_age.std())+ \" years\")\n",
    "plt.hist(patient_age)\n",
    "plt.xlabel('Age of Patients')\n",
    "plt.ylabel('Number of People')\n",
    "plt.title('Age')\n",
    "plt.axvline(patient_age.mean(), color='r', linestyle='solid', linewidth=2)\n",
    "plt.axvline(patient_age.mean() + patient_age.std(), color='r', linestyle='dashed', linewidth=2)\n",
    "plt.axvline(patient_age.mean() - patient_age.std(), color='r', linestyle='dashed', linewidth=2)\n",
    "plt.show()\n",
    "\n",
    "plt.boxplot(patient_age)\n",
    "plt.title('Age')\n",
    "plt.show()\n",
    "\n",
    "\n",
    "print(\"The dataset has rate of\")\n",
    "\n",
    "diabetes_rate = patient_data[patient_data['Diabetes']==\"1\"]\n",
    "\n",
    "## trying to show all the different rates of the different characteristics in the data set....cannot use len\n",
    "##maybe use count and then put on a bar chart of the different rates with a different rates of different countries\n",
    "##using world bank data\n",
    "print(diabetes_rate)\n"
   ]
  },
  {
   "cell_type": "markdown",
   "metadata": {},
   "source": [
    "description of the above saying what I found and why it is important (does it allign with American rates ....grab american rates of x and y).\n"
   ]
  },
  {
   "cell_type": "markdown",
   "metadata": {},
   "source": [
    "# Trends on Missed Appointments\n"
   ]
  },
  {
   "cell_type": "code",
   "execution_count": 19,
   "metadata": {
    "collapsed": true
   },
   "outputs": [],
   "source": [
    "patient_no_show = patient_data[patient_data['Status']==\"No-Show\"]\n",
    "patient_show = patient_data[patient_data['Status']==\"Show-Up\"]\n",
    "\n",
    "##can first do the general subplot and then  \n",
    "##can use grouby for days of the week....should have age on an axis as those younger folks are not really in control"
   ]
  },
  {
   "cell_type": "markdown",
   "metadata": {},
   "source": [
    "description of stat above\n"
   ]
  },
  {
   "cell_type": "markdown",
   "metadata": {},
   "source": [
    "# SMS Reminder Effects"
   ]
  },
  {
   "cell_type": "code",
   "execution_count": null,
   "metadata": {
    "collapsed": true
   },
   "outputs": [],
   "source": [
    "patient_no_show = patient_data[patient_data['Status']==\"No-Show\"] ## need to make it for text reminder\n",
    "patient_show = patient_data[patient_data['Status']==\"Show-Up\"]\n",
    "\n",
    "##first plot will be overall and then the subplots, 1 will be gender and 1 will be for age bands\n",
    "## do subplots of sms reminder vs categories such as gender, age....red is showed, blue is didn't\n",
    "## maybe do age bands to show my ability to slice data "
   ]
  }
 ],
 "metadata": {
  "kernelspec": {
   "display_name": "Python 3",
   "language": "python",
   "name": "python3"
  },
  "language_info": {
   "codemirror_mode": {
    "name": "ipython",
    "version": 3
   },
   "file_extension": ".py",
   "mimetype": "text/x-python",
   "name": "python",
   "nbconvert_exporter": "python",
   "pygments_lexer": "ipython3",
   "version": "3.6.0"
  }
 },
 "nbformat": 4,
 "nbformat_minor": 2
}
